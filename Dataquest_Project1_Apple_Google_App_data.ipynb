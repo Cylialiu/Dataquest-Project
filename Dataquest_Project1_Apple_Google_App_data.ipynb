{
 "cells": [
  {
   "cell_type": "markdown",
   "metadata": {},
   "source": [
    "# Dataquest Project 1 \n",
    "Build Android and iOS mobile apps. Our goal for this project is to analyze data to help our developers understand what kinds of apps are likely to attract more users."
   ]
  },
  {
   "cell_type": "code",
   "execution_count": 2,
   "metadata": {
    "collapsed": true
   },
   "outputs": [],
   "source": [
    "#Open the two data sets and save both as lists\n",
    "def open_dataset(file_name, header=True):        \n",
    "    opened_file = open(file_name)\n",
    "    from csv import reader\n",
    "    read_file = reader(opened_file)\n",
    "    data = list(read_file)\n",
    "     \n",
    "    if header:\n",
    "        return (data[0],data[1:])\n",
    "    else:\n",
    "        return data\n",
    "\n",
    "apple_header = open_dataset('AppleStore.csv',header=True)[0]\n",
    "apple_data = open_dataset('AppleStore.csv',header=True)[1]\n",
    "android_header= open_dataset('googleplaystore.csv',header=True)[0]\n",
    "android_data= open_dataset('googleplaystore.csv',header=True)[1]"
   ]
  },
  {
   "cell_type": "code",
   "execution_count": 3,
   "metadata": {},
   "outputs": [
    {
     "name": "stdout",
     "output_type": "stream",
     "text": [
      "['284882215', 'Facebook', '389879808', 'USD', '0.0', '2974676', '212', '3.5', '3.5', '95.0', '4+', 'Social Networking', '37', '1', '29', '1']\n",
      "\n",
      "\n",
      "['389801252', 'Instagram', '113954816', 'USD', '0.0', '2161558', '1289', '4.5', '4.0', '10.23', '12+', 'Photo & Video', '37', '0', '29', '1']\n",
      "\n",
      "\n",
      "['529479190', 'Clash of Clans', '116476928', 'USD', '0.0', '2130805', '579', '4.5', '4.5', '9.24.12', '9+', 'Games', '38', '5', '18', '1']\n",
      "\n",
      "\n",
      "Number of rows: 7197\n",
      "Number of columns: 16\n",
      "['Photo Editor & Candy Camera & Grid & ScrapBook', 'ART_AND_DESIGN', '4.1', '159', '19M', '10,000+', 'Free', '0', 'Everyone', 'Art & Design', 'January 7, 2018', '1.0.0', '4.0.3 and up']\n",
      "\n",
      "\n",
      "['Coloring book moana', 'ART_AND_DESIGN', '3.9', '967', '14M', '500,000+', 'Free', '0', 'Everyone', 'Art & Design;Pretend Play', 'January 15, 2018', '2.0.0', '4.0.3 and up']\n",
      "\n",
      "\n",
      "['U Launcher Lite – FREE Live Cool Themes, Hide Apps', 'ART_AND_DESIGN', '4.7', '87510', '8.7M', '5,000,000+', 'Free', '0', 'Everyone', 'Art & Design', 'August 1, 2018', '1.2.4', '4.0.3 and up']\n",
      "\n",
      "\n",
      "Number of rows: 10841\n",
      "Number of columns: 13\n"
     ]
    }
   ],
   "source": [
    "#Explore bothe data sets use the function\n",
    "def explore_data(dataset,start,end,rows_and_columns=False):\n",
    "    dataset_slice = dataset[start:end]    \n",
    "    for row in dataset_slice:\n",
    "        print(row)\n",
    "        print('\\n') # adds a new (empty) line after each row\n",
    "\n",
    "    if rows_and_columns:\n",
    "        print('Number of rows:', len(dataset))\n",
    "        print('Number of columns:', len(dataset[0]))\n",
    "\n",
    "explore_data(apple_data,0,3,rows_and_columns=True)\n",
    "explore_data(android_data,0,3,rows_and_columns=True)\n",
    "\n"
   ]
  },
  {
   "cell_type": "code",
   "execution_count": 4,
   "metadata": {},
   "outputs": [
    {
     "name": "stdout",
     "output_type": "stream",
     "text": [
      "['Life Made WI-Fi Touchscreen Photo Frame', '1.9', '19', '3.0M', '1,000+', 'Free', '0', 'Everyone', '', 'February 11, 2018', '1.0.19', '4.0 and up']\n",
      "\n",
      "\n",
      "Number of rows: 10841\n",
      "Number of columns: 13\n"
     ]
    }
   ],
   "source": [
    "#Data Cleaning\n",
    "explore_data(android_data,10472,10473,rows_and_columns=True)\n",
    "del android_data[10472]\n"
   ]
  },
  {
   "cell_type": "code",
   "execution_count": 5,
   "metadata": {},
   "outputs": [
    {
     "name": "stdout",
     "output_type": "stream",
     "text": [
      "['Instagram', 'SOCIAL', '4.5', '66577313', 'Varies with device', '1,000,000,000+', 'Free', '0', 'Teen', 'Social', 'July 31, 2018', 'Varies with device', 'Varies with device']\n",
      "['Instagram', 'SOCIAL', '4.5', '66577446', 'Varies with device', '1,000,000,000+', 'Free', '0', 'Teen', 'Social', 'July 31, 2018', 'Varies with device', 'Varies with device']\n",
      "['Instagram', 'SOCIAL', '4.5', '66577313', 'Varies with device', '1,000,000,000+', 'Free', '0', 'Teen', 'Social', 'July 31, 2018', 'Varies with device', 'Varies with device']\n",
      "['Instagram', 'SOCIAL', '4.5', '66509917', 'Varies with device', '1,000,000,000+', 'Free', '0', 'Teen', 'Social', 'July 31, 2018', 'Varies with device', 'Varies with device']\n"
     ]
    }
   ],
   "source": [
    "# Remove duplicate entries\n",
    "for app in android_data:\n",
    "    name = app[0]\n",
    "    if name == 'Instagram':\n",
    "        print(app)"
   ]
  },
  {
   "cell_type": "code",
   "execution_count": 6,
   "metadata": {},
   "outputs": [
    {
     "name": "stdout",
     "output_type": "stream",
     "text": [
      "Number of duplicat apps: 1181\n",
      "\n",
      "\n",
      "Examples of duplicate apps: ['Quick PDF Scanner + OCR FREE', 'Box', 'Google My Business', 'ZOOM Cloud Meetings', 'join.me - Simple Meetings', 'Box', 'Zenefits', 'Google Ads', 'Google My Business', 'Slack', 'FreshBooks Classic', 'Insightly CRM', 'QuickBooks Accounting: Invoicing & Expenses', 'HipChat - Chat Built for Teams', 'Xero Accounting Software']\n"
     ]
    }
   ],
   "source": [
    "duplicate_apps = []\n",
    "unique_apps = []\n",
    "\n",
    "for app in android_data:\n",
    "    name = app[0]\n",
    "    if name in unique_apps:\n",
    "        duplicate_apps.append(name)\n",
    "    else:\n",
    "        unique_apps.append(name)\n",
    "        \n",
    "print('Number of duplicat apps:',len(duplicate_apps))\n",
    "print('\\n')\n",
    "print('Examples of duplicate apps:',duplicate_apps[:15])"
   ]
  },
  {
   "cell_type": "code",
   "execution_count": 7,
   "metadata": {},
   "outputs": [
    {
     "name": "stdout",
     "output_type": "stream",
     "text": [
      "9659\n"
     ]
    }
   ],
   "source": [
    "# Remove Duplicate Entries\n",
    "#Since we do not want to remove the duplicate items randomly,we might want to keep the higher number of reviews in our data. \n",
    "# Dictionary would be a good choice\n",
    "# Create a dictionary where each key is a unique app name and the correponding dictionary value is the highest number of reviews of that app\n",
    "reviews_max = {}\n",
    "for app in android_data:\n",
    "    name = app[0]\n",
    "    n_reviews = float(app[3])\n",
    "    if name in reviews_max and reviews_max[name] < n_reviews:\n",
    "        reviews_max[name] = n_reviews\n",
    "    elif name not in reviews_max:\n",
    "        reviews_max[name] = n_reviews\n",
    "print(len(reviews_max))\n",
    "        "
   ]
  },
  {
   "cell_type": "code",
   "execution_count": 8,
   "metadata": {},
   "outputs": [
    {
     "name": "stdout",
     "output_type": "stream",
     "text": [
      "9659\n"
     ]
    }
   ],
   "source": [
    "# Remove the dupliacte rows\n",
    "android_clean = [] # store our new cleaned data set\n",
    "already_added = [] # will just store app names \n",
    "for app in android_data:\n",
    "    name = app[0]\n",
    "    n_reviews = float(app[3])\n",
    "    if (n_reviews == reviews_max[name]) and (name not in already_added):\n",
    "        android_clean.append(app)\n",
    "        already_added.append(name)\n",
    "\n",
    "print(len(android_clean))"
   ]
  },
  {
   "cell_type": "code",
   "execution_count": 9,
   "metadata": {},
   "outputs": [
    {
     "name": "stdout",
     "output_type": "stream",
     "text": [
      "['Photo Editor & Candy Camera & Grid & ScrapBook', 'ART_AND_DESIGN', '4.1', '159', '19M', '10,000+', 'Free', '0', 'Everyone', 'Art & Design', 'January 7, 2018', '1.0.0', '4.0.3 and up']\n",
      "\n",
      "\n",
      "['U Launcher Lite – FREE Live Cool Themes, Hide Apps', 'ART_AND_DESIGN', '4.7', '87510', '8.7M', '5,000,000+', 'Free', '0', 'Everyone', 'Art & Design', 'August 1, 2018', '1.2.4', '4.0.3 and up']\n",
      "\n",
      "\n",
      "['Sketch - Draw & Paint', 'ART_AND_DESIGN', '4.5', '215644', '25M', '50,000,000+', 'Free', '0', 'Teen', 'Art & Design', 'June 8, 2018', 'Varies with device', '4.2 and up']\n",
      "\n",
      "\n",
      "Number of rows: 9597\n",
      "Number of columns: 13\n",
      "\n",
      "\n",
      "['284882215', 'Facebook', '389879808', 'USD', '0.0', '2974676', '212', '3.5', '3.5', '95.0', '4+', 'Social Networking', '37', '1', '29', '1']\n",
      "\n",
      "\n",
      "['389801252', 'Instagram', '113954816', 'USD', '0.0', '2161558', '1289', '4.5', '4.0', '10.23', '12+', 'Photo & Video', '37', '0', '29', '1']\n",
      "\n",
      "\n",
      "['529479190', 'Clash of Clans', '116476928', 'USD', '0.0', '2130805', '579', '4.5', '4.5', '9.24.12', '9+', 'Games', '38', '5', '18', '1']\n",
      "\n",
      "\n",
      "Number of rows: 6155\n",
      "Number of columns: 16\n"
     ]
    }
   ],
   "source": [
    "# Remove Non-English Apps\n",
    "def check_english(text):\n",
    "    count = 0\n",
    "    for i in text:\n",
    "        if ord(i) > 127 or ord(i)<0:\n",
    "            count +=1\n",
    "    if count >= 3:\n",
    "        return False\n",
    "    else:\n",
    "        return True # Loop the whole text finish and then in the end return \n",
    "\n",
    "# Filter non-English APPS\n",
    "android_English=[]\n",
    "ios_English =[]\n",
    "\n",
    "for i in android_clean:\n",
    "    name = i[0]\n",
    "    if check_english(name) == True:\n",
    "        android_English.append(i)\n",
    "\n",
    "for i in apple_data:\n",
    "    name = i[1]\n",
    "    if check_english(name) == True:\n",
    "        ios_English.append(i) \n",
    "\n",
    "explore_data(android_English, 0, 3, True)\n",
    "print('\\n')\n",
    "explore_data(ios_English, 0, 3, True)"
   ]
  },
  {
   "cell_type": "code",
   "execution_count": 10,
   "metadata": {},
   "outputs": [
    {
     "name": "stdout",
     "output_type": "stream",
     "text": [
      "['Photo Editor & Candy Camera & Grid & ScrapBook', 'ART_AND_DESIGN', '4.1', '159', '19M', '10,000+', 'Free', '0', 'Everyone', 'Art & Design', 'January 7, 2018', '1.0.0', '4.0.3 and up']\n",
      "\n",
      "\n",
      "['U Launcher Lite – FREE Live Cool Themes, Hide Apps', 'ART_AND_DESIGN', '4.7', '87510', '8.7M', '5,000,000+', 'Free', '0', 'Everyone', 'Art & Design', 'August 1, 2018', '1.2.4', '4.0.3 and up']\n",
      "\n",
      "\n",
      "['Sketch - Draw & Paint', 'ART_AND_DESIGN', '4.5', '215644', '25M', '50,000,000+', 'Free', '0', 'Teen', 'Art & Design', 'June 8, 2018', 'Varies with device', '4.2 and up']\n",
      "\n",
      "\n",
      "Number of rows: 8847\n",
      "Number of columns: 13\n",
      "\n",
      "\n",
      "['284882215', 'Facebook', '389879808', 'USD', '0.0', '2974676', '212', '3.5', '3.5', '95.0', '4+', 'Social Networking', '37', '1', '29', '1']\n",
      "\n",
      "\n",
      "['389801252', 'Instagram', '113954816', 'USD', '0.0', '2161558', '1289', '4.5', '4.0', '10.23', '12+', 'Photo & Video', '37', '0', '29', '1']\n",
      "\n",
      "\n",
      "['529479190', 'Clash of Clans', '116476928', 'USD', '0.0', '2130805', '579', '4.5', '4.5', '9.24.12', '9+', 'Games', '38', '5', '18', '1']\n",
      "\n",
      "\n",
      "Number of rows: 3203\n",
      "Number of columns: 16\n"
     ]
    }
   ],
   "source": [
    "# Isolate the Free Apps\n",
    "android_free_apps =[]\n",
    "apple_free_apps =[]\n",
    "for i in android_English:\n",
    "    price = i[6]\n",
    "    if price == 'Free':\n",
    "        android_free_apps.append(i)\n",
    "for i in ios_English:\n",
    "    price = i[4]\n",
    "    if price == '0.0':\n",
    "        apple_free_apps.append(i) \n",
    "\n",
    "explore_data(android_free_apps, 0, 3, True)\n",
    "print('\\n')\n",
    "explore_data(apple_free_apps, 0, 3, True)"
   ]
  },
  {
   "cell_type": "markdown",
   "metadata": {},
   "source": [
    "# Most Common Apps by Genre: Part one\n",
    "\n",
    "## To minimize risks and overhead, our validation strategy for an app idea is comprised of three steps:  \n",
    "\n",
    "Build a minimal Android version of the app, and add it to Google Play.\n",
    "    If the app has a good response from users, we develop it further.\n",
    "    If the app is profitable after six months, we build an iOS version of the app and add it to the App Store.\n",
    "\n",
    "Because our end goal is to add the app on both Google Play and the App Store, we need to find app profiles that are successful on both markets.\n",
    "For instance, a profile that works well for both markets might be a productivity app that makes use of gamification."
   ]
  },
  {
   "cell_type": "code",
   "execution_count": 11,
   "metadata": {},
   "outputs": [],
   "source": [
    "def freq_table(dataset,index):\n",
    "    genre_counting = {}\n",
    "    for each_row in dataset:\n",
    "        genre = each_row[index]\n",
    "        count = 1 + genre_counting.get(genre, 0)\n",
    "        genre_counting[genre] = count\n",
    "    return genre_counting\n",
    "\n",
    "def display_table(dataset, index): # This one is quite useful too. Can sorted a dataset and display it in order \n",
    "    table = freq_table(dataset, index)\n",
    "    table_display = []\n",
    "    for key in table:\n",
    "        key_val_as_tuple = (table[key], key)\n",
    "        table_display.append(key_val_as_tuple)\n",
    "\n",
    "    table_sorted = sorted(table_display, reverse = True)\n",
    "    for entry in table_sorted:\n",
    "        print(entry[1], ':', entry[0])\n",
    "    "
   ]
  },
  {
   "cell_type": "code",
   "execution_count": 12,
   "metadata": {},
   "outputs": [
    {
     "name": "stdout",
     "output_type": "stream",
     "text": [
      "Games : 1866\n",
      "Entertainment : 251\n",
      "Photo & Video : 160\n",
      "Education : 118\n",
      "Social Networking : 106\n",
      "Shopping : 83\n",
      "Utilities : 79\n",
      "Sports : 69\n",
      "Music : 66\n",
      "Health & Fitness : 65\n",
      "Productivity : 56\n",
      "Lifestyle : 50\n",
      "News : 43\n",
      "Travel : 40\n",
      "Finance : 35\n",
      "Weather : 28\n",
      "Food & Drink : 26\n",
      "Reference : 17\n",
      "Business : 17\n",
      "Book : 12\n",
      "Navigation : 6\n",
      "Medical : 6\n",
      "Catalogs : 4\n"
     ]
    }
   ],
   "source": [
    "### Analyse the frequency table I generated for the the android dataset and the apple dataset.\n",
    "#### Apple dataset:\n",
    "\n",
    "display_table(apple_free_apps , -5)\n"
   ]
  },
  {
   "cell_type": "markdown",
   "metadata": {},
   "source": [
    "From the table above, we can see Games is the most popular genre. And most of the apps designed for entertainment, like games, photo and video, social neteworking. I don't think we can conclude that this genre also have a large number of users. A large number of apps does  not equals to the large number of users.\n"
   ]
  },
  {
   "cell_type": "code",
   "execution_count": 13,
   "metadata": {},
   "outputs": [
    {
     "name": "stdout",
     "output_type": "stream",
     "text": [
      "FAMILY : 1675\n",
      "GAME : 858\n",
      "TOOLS : 748\n",
      "BUSINESS : 407\n",
      "PRODUCTIVITY : 345\n",
      "LIFESTYLE : 344\n",
      "FINANCE : 328\n",
      "MEDICAL : 313\n",
      "SPORTS : 300\n",
      "PERSONALIZATION : 294\n",
      "COMMUNICATION : 286\n",
      "HEALTH_AND_FITNESS : 273\n",
      "PHOTOGRAPHY : 261\n",
      "NEWS_AND_MAGAZINES : 248\n",
      "SOCIAL : 236\n",
      "TRAVEL_AND_LOCAL : 207\n",
      "SHOPPING : 199\n",
      "BOOKS_AND_REFERENCE : 189\n",
      "DATING : 165\n",
      "VIDEO_PLAYERS : 159\n",
      "MAPS_AND_NAVIGATION : 123\n",
      "FOOD_AND_DRINK : 110\n",
      "EDUCATION : 103\n",
      "ENTERTAINMENT : 85\n",
      "LIBRARIES_AND_DEMO : 83\n",
      "AUTO_AND_VEHICLES : 82\n",
      "HOUSE_AND_HOME : 71\n",
      "WEATHER : 70\n",
      "EVENTS : 63\n",
      "PARENTING : 58\n",
      "ART_AND_DESIGN : 57\n",
      "COMICS : 54\n",
      "BEAUTY : 53\n",
      "-------\n",
      "Tools : 747\n",
      "Entertainment : 538\n",
      "Education : 474\n",
      "Business : 407\n",
      "Productivity : 345\n",
      "Lifestyle : 343\n",
      "Finance : 328\n",
      "Medical : 313\n",
      "Sports : 306\n",
      "Personalization : 294\n",
      "Communication : 286\n",
      "Action : 274\n",
      "Health & Fitness : 273\n",
      "Photography : 261\n",
      "News & Magazines : 248\n",
      "Social : 236\n",
      "Travel & Local : 206\n",
      "Shopping : 199\n",
      "Books & Reference : 189\n",
      "Simulation : 181\n",
      "Dating : 165\n",
      "Arcade : 163\n",
      "Video Players & Editors : 157\n",
      "Casual : 156\n",
      "Maps & Navigation : 123\n",
      "Food & Drink : 110\n",
      "Puzzle : 100\n",
      "Racing : 88\n",
      "Role Playing : 83\n",
      "Libraries & Demo : 83\n",
      "Auto & Vehicles : 82\n",
      "Strategy : 80\n",
      "House & Home : 71\n",
      "Weather : 70\n",
      "Events : 63\n",
      "Adventure : 59\n",
      "Comics : 53\n",
      "Beauty : 53\n",
      "Art & Design : 53\n",
      "Parenting : 44\n",
      "Card : 40\n",
      "Trivia : 37\n",
      "Casino : 37\n",
      "Educational;Education : 35\n",
      "Board : 34\n",
      "Educational : 33\n",
      "Education;Education : 30\n",
      "Word : 23\n",
      "Casual;Pretend Play : 21\n",
      "Music : 18\n",
      "Racing;Action & Adventure : 15\n",
      "Puzzle;Brain Games : 15\n",
      "Entertainment;Music & Video : 15\n",
      "Casual;Brain Games : 12\n",
      "Casual;Action & Adventure : 12\n",
      "Arcade;Action & Adventure : 11\n",
      "Action;Action & Adventure : 9\n",
      "Educational;Pretend Play : 8\n",
      "Simulation;Action & Adventure : 7\n",
      "Parenting;Education : 7\n",
      "Entertainment;Brain Games : 7\n",
      "Board;Brain Games : 7\n",
      "Parenting;Music & Video : 6\n",
      "Educational;Brain Games : 6\n",
      "Casual;Creativity : 6\n",
      "Art & Design;Creativity : 6\n",
      "Education;Pretend Play : 5\n",
      "Role Playing;Pretend Play : 4\n",
      "Education;Creativity : 4\n",
      "Role Playing;Action & Adventure : 3\n",
      "Puzzle;Action & Adventure : 3\n",
      "Entertainment;Creativity : 3\n",
      "Entertainment;Action & Adventure : 3\n",
      "Educational;Creativity : 3\n",
      "Educational;Action & Adventure : 3\n",
      "Education;Music & Video : 3\n",
      "Education;Brain Games : 3\n",
      "Education;Action & Adventure : 3\n",
      "Adventure;Action & Adventure : 3\n",
      "Video Players & Editors;Music & Video : 2\n",
      "Sports;Action & Adventure : 2\n",
      "Simulation;Pretend Play : 2\n",
      "Puzzle;Creativity : 2\n",
      "Music;Music & Video : 2\n",
      "Entertainment;Pretend Play : 2\n",
      "Casual;Education : 2\n",
      "Board;Action & Adventure : 2\n",
      "Video Players & Editors;Creativity : 1\n",
      "Trivia;Education : 1\n",
      "Travel & Local;Action & Adventure : 1\n",
      "Tools;Education : 1\n",
      "Strategy;Education : 1\n",
      "Strategy;Creativity : 1\n",
      "Strategy;Action & Adventure : 1\n",
      "Simulation;Education : 1\n",
      "Role Playing;Brain Games : 1\n",
      "Racing;Pretend Play : 1\n",
      "Puzzle;Education : 1\n",
      "Parenting;Brain Games : 1\n",
      "Music & Audio;Music & Video : 1\n",
      "Lifestyle;Pretend Play : 1\n",
      "Lifestyle;Education : 1\n",
      "Health & Fitness;Education : 1\n",
      "Health & Fitness;Action & Adventure : 1\n",
      "Entertainment;Education : 1\n",
      "Communication;Creativity : 1\n",
      "Comics;Creativity : 1\n",
      "Casual;Music & Video : 1\n",
      "Card;Action & Adventure : 1\n",
      "Books & Reference;Education : 1\n",
      "Art & Design;Pretend Play : 1\n",
      "Art & Design;Action & Adventure : 1\n",
      "Arcade;Pretend Play : 1\n",
      "Adventure;Education : 1\n"
     ]
    }
   ],
   "source": [
    "### Analyse the frequency table I generated for the the android dataset and the apple dataset.\n",
    "#### Android dataset:\n",
    "display_table(android_free_apps , 1) #Category\n",
    "print('-------')\n",
    "display_table(android_free_apps , -4) # Genres"
   ]
  },
  {
   "cell_type": "markdown",
   "metadata": {},
   "source": [
    "Based on the table above, we could find the most common genres is Entertainment. Education and business are also remarkable.\n",
    "\n",
    "Family, games and tools are both the most common genres in Google Play and also Apple store. But compare in a more detailed level, we could find Google app has more pratical purpose use than Apple store. I cannot tell much difference between genre and category. But it seems that genre has a more detailed information. Google play seems has a more balanced app categories."
   ]
  },
  {
   "cell_type": "markdown",
   "metadata": {},
   "source": [
    "### Most Popular Apps by Genre on the App Store"
   ]
  },
  {
   "cell_type": "code",
   "execution_count": 42,
   "metadata": {},
   "outputs": [
    {
     "name": "stdout",
     "output_type": "stream",
     "text": [
      "Navigation : 86090.33333333333 , 6\n",
      "Reference : 79350.4705882353 , 17\n",
      "Social Networking : 71548.34905660378 , 106\n",
      "Music : 57326.530303030304 , 66\n",
      "Weather : 52279.892857142855 , 28\n",
      "Book : 46384.916666666664 , 12\n",
      "Food & Drink : 33333.92307692308 , 26\n",
      "Finance : 32367.02857142857 , 35\n",
      "Photo & Video : 28441.54375 , 160\n",
      "Travel : 28243.8 , 40\n",
      "Shopping : 27230.734939759037 , 83\n",
      "Health & Fitness : 23298.015384615384 , 65\n",
      "Sports : 23008.898550724636 , 69\n",
      "Games : 22886.36709539121 , 1866\n",
      "News : 21248.023255813954 , 43\n",
      "Productivity : 21028.410714285714 , 56\n",
      "Utilities : 19156.493670886077 , 79\n",
      "Lifestyle : 16815.48 , 50\n",
      "Entertainment : 14195.358565737051 , 251\n",
      "Business : 7491.117647058823 , 17\n",
      "Education : 7003.983050847458 , 118\n",
      "Catalogs : 4004.0 , 4\n",
      "Medical : 612.0 , 6\n"
     ]
    }
   ],
   "source": [
    "# Generate a unique frequency table for the prime_genre column \n",
    "prime_genre = freq_table(android_free_apps,-5)\n",
    "ratings_apple = []\n",
    "# Loop over the unique genres of the App Store data set\n",
    "for genre in prime_genre:# all unique genre collection\n",
    "    total = 0  # fpr each new genre you need to start over, go back to 0 and count from beginning\n",
    "    len_genre = 0\n",
    "    for i in apple_free_apps:# get the ranking data \n",
    "        genre_app = i[-5]\n",
    "        if genre_app == genre:\n",
    "            ratings = float(i[5])\n",
    "            total += ratings\n",
    "            len_genre += 1\n",
    "    ave_ratings = total/len_genre   #all this genre's ranking add up and be divided by how many app are in this genre\n",
    "    rating_as_tuple = (ave_ratings,len_genre, genre) # Dictionary sort method!! \n",
    "    ratings_apple.append(rating_as_tuple)\n",
    "\n",
    "ranking_sorted = sorted(ratings_apple, reverse = True)\n",
    "for entry in ranking_sorted:\n",
    "        print(entry[2], ':', entry[0],',',entry[1])\n",
    "\n",
    "                \n",
    "            \n",
    "\n",
    "\n",
    "\n",
    "    \n",
    "    \n",
    "    "
   ]
  },
  {
   "cell_type": "markdown",
   "metadata": {},
   "source": [
    "Considering above data result, we can see that Navigation is the largest ranking number!. For now I would like to recommend that Navigation app would be great. However, we may concern that there could be some \"so popular\" app under Navigation categary, which cause the data skewed. Therefore, we should find out the most len_genre in next step. Correct the code above, we couuld see that Navigation just has 6 apps, which could be considered that apps like \"Google map\" make this situation. But reference and social work have more apps under their categories. "
   ]
  },
  {
   "cell_type": "markdown",
   "metadata": {},
   "source": [
    "### Most Popular Apps by Genre on Google Play \n",
    "#### find out which app genres attract the most users, "
   ]
  },
  {
   "cell_type": "code",
   "execution_count": 44,
   "metadata": {},
   "outputs": [
    {
     "name": "stdout",
     "output_type": "stream",
     "text": [
      "1,000,000+ : 1394\n",
      "100,000+ : 1021\n",
      "10,000,000+ : 935\n",
      "10,000+ : 902\n",
      "1,000+ : 743\n",
      "100+ : 613\n",
      "5,000,000+ : 604\n",
      "500,000+ : 492\n",
      "50,000+ : 422\n",
      "5,000+ : 397\n",
      "10+ : 313\n",
      "500+ : 287\n",
      "50,000,000+ : 202\n",
      "100,000,000+ : 189\n",
      "50+ : 170\n",
      "5+ : 70\n",
      "1+ : 45\n",
      "500,000,000+ : 24\n",
      "1,000,000,000+ : 20\n",
      "0+ : 4\n"
     ]
    }
   ],
   "source": [
    "display_table(android_free_apps, 5)"
   ]
  },
  {
   "cell_type": "code",
   "execution_count": 47,
   "metadata": {},
   "outputs": [
    {
     "name": "stdout",
     "output_type": "stream",
     "text": [
      "COMMUNICATION : 38590581.08741259 , 286\n",
      "VIDEO_PLAYERS : 24727872.452830188 , 159\n",
      "SOCIAL : 23253652.127118643 , 236\n",
      "PHOTOGRAPHY : 17840110.40229885 , 261\n",
      "PRODUCTIVITY : 16787331.344927534 , 345\n",
      "GAME : 15544014.51048951 , 858\n",
      "TRAVEL_AND_LOCAL : 13984077.710144928 , 207\n",
      "ENTERTAINMENT : 11640705.88235294 , 85\n",
      "TOOLS : 10830251.970588235 , 748\n",
      "NEWS_AND_MAGAZINES : 9549178.467741935 , 248\n",
      "BOOKS_AND_REFERENCE : 8814199.78835979 , 189\n",
      "SHOPPING : 7036877.311557789 , 199\n",
      "PERSONALIZATION : 5201482.6122448975 , 294\n",
      "WEATHER : 5145550.285714285 , 70\n",
      "HEALTH_AND_FITNESS : 4188821.9853479853 , 273\n",
      "MAPS_AND_NAVIGATION : 4049274.6341463416 , 123\n",
      "FAMILY : 3697848.1731343283 , 1675\n",
      "SPORTS : 3650602.276666667 , 300\n",
      "ART_AND_DESIGN : 1986335.0877192982 , 57\n",
      "FOOD_AND_DRINK : 1924897.7363636363 , 110\n",
      "EDUCATION : 1833495.145631068 , 103\n",
      "BUSINESS : 1712290.1474201474 , 407\n",
      "LIFESTYLE : 1446158.2238372094 , 344\n",
      "FINANCE : 1387692.475609756 , 328\n",
      "HOUSE_AND_HOME : 1360598.042253521 , 71\n",
      "DATING : 854028.8303030303 , 165\n",
      "COMICS : 832613.8888888889 , 54\n",
      "AUTO_AND_VEHICLES : 647317.8170731707 , 82\n",
      "LIBRARIES_AND_DEMO : 638503.734939759 , 83\n",
      "PARENTING : 542603.6206896552 , 58\n",
      "BEAUTY : 513151.88679245283 , 53\n",
      "EVENTS : 253542.22222222222 , 63\n",
      "MEDICAL : 120550.61980830671 , 313\n"
     ]
    }
   ],
   "source": [
    "# remove characters from strings: str.replace(old, new) \n",
    "#calculate the average number of installs per app genre for the Google Play data set.\n",
    "\n",
    "\n",
    "#Generate a unique frequency table for the prime_genre column \n",
    "genre_android= freq_table(android_free_apps ,1)\n",
    "install_android = []\n",
    "# Loop over the unique genres of the App Store data set\n",
    "for genre in genre_android:# all unique genre collection\n",
    "    total = 0  # for each new genre you need to start over, go back to 0 and count from beginning\n",
    "    len_genre = 0\n",
    "    for i in android_free_apps :# get the ranking data \n",
    "        genre_app = i[1]\n",
    "        if genre_app == genre:\n",
    "            n_installs = i[5]\n",
    "            n_installs= n_installs.replace('+','')\n",
    "            n_installs = n_installs.replace(',','')\n",
    "            total += int(n_installs)\n",
    "            len_genre += 1\n",
    "    ave_installs = total/len_genre   #all this genre's ranking add up and be divided by how many app are in this genre\n",
    "    installs_as_tuple = (ave_installs,len_genre, genre) # Dictionary sort method!! \n",
    "    install_android.append(installs_as_tuple)\n",
    "\n",
    "install_android_sorted = sorted(install_android, reverse = True)\n",
    "for entry in install_android_sorted:\n",
    "        print(entry[2], ':', entry[0],',',entry[1])\n",
    "    \n",
    "    \n",
    "\n"
   ]
  },
  {
   "cell_type": "markdown",
   "metadata": {},
   "source": [
    "Based on the result above, we could find that communication has the most installs. However, as we discussed above, we are nor sure that if there are some \"main popular apps"
   ]
  },
  {
   "cell_type": "code",
   "execution_count": null,
   "metadata": {
    "collapsed": true
   },
   "outputs": [],
   "source": []
  }
 ],
 "metadata": {
  "kernelspec": {
   "display_name": "Python 3",
   "language": "python",
   "name": "python3"
  },
  "language_info": {
   "codemirror_mode": {
    "name": "ipython",
    "version": 3
   },
   "file_extension": ".py",
   "mimetype": "text/x-python",
   "name": "python",
   "nbconvert_exporter": "python",
   "pygments_lexer": "ipython3",
   "version": "3.7.3"
  }
 },
 "nbformat": 4,
 "nbformat_minor": 2
}
